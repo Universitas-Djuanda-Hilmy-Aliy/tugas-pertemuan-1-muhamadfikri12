{
 "cells": [
  {
   "cell_type": "markdown",
   "metadata": {
    "id": "Ao13rE4rQRbb"
   },
   "source": [
    "Sigma (Penjumlahan)"
   ]
  },
  {
   "cell_type": "markdown",
   "metadata": {
    "id": "K9JgRRo8O5MC"
   },
   "source": [
    "$$\n",
    "\\sum_{i=1}^{100} 2^{2i+1}.\n",
    "$$"
   ]
  },
  {
   "cell_type": "code",
   "execution_count": 1,
   "metadata": {
    "id": "oaXc3e-3LVNR"
   },
   "outputs": [
    {
     "name": "stdout",
     "output_type": "stream",
     "text": [
      "Hasil = 4285168118023974068111898912909766940059207983420780894137000\n"
     ]
    }
   ],
   "source": [
    "a = 0\n",
    "for i in range (1,101):\n",
    "    a = a + 2**(2*i+1)\n",
    "    \n",
    "print ('Hasil =', a)"
   ]
  },
  {
   "cell_type": "markdown",
   "metadata": {
    "id": "ltaIA_FZQVZY"
   },
   "source": [
    "Pi (Perkalian)"
   ]
  },
  {
   "cell_type": "markdown",
   "metadata": {
    "id": "wrQq8fU2PWyY"
   },
   "source": [
    "$$\n",
    "\\prod_{j=1}^{50} 2j+2.\n",
    "$$"
   ]
  },
  {
   "cell_type": "code",
   "execution_count": 2,
   "metadata": {
    "id": "K4OB2TW9PWYx"
   },
   "outputs": [
    {
     "name": "stdout",
     "output_type": "stream",
     "text": [
      "Hasil = 1746404459828110788660568077655617484731052427739679140223698377637888000000000000\n"
     ]
    }
   ],
   "source": [
    "hasil = 1\n",
    "for j in range (1, 51):\n",
    "    hasil = hasil * abs(2*j+2)\n",
    "print('Hasil =',hasil)"
   ]
  },
  {
   "cell_type": "markdown",
   "metadata": {
    "id": "FeJ78alMQ2Ey"
   },
   "source": [
    "Faktorial"
   ]
  },
  {
   "cell_type": "markdown",
   "metadata": {
    "id": "rEgK4ed0Qyx2"
   },
   "source": [
    "$$\n",
    "10!\n",
    "$$"
   ]
  },
  {
   "cell_type": "code",
   "execution_count": 3,
   "metadata": {
    "id": "Mh53IlGdO63e"
   },
   "outputs": [
    {
     "name": "stdout",
     "output_type": "stream",
     "text": [
      "10! = 3628800\n"
     ]
    }
   ],
   "source": [
    "def factorial(n):\n",
    "    result = 1\n",
    "    for i in range(1, n + 1):\n",
    "        result *= i\n",
    "    return result\n",
    "\n",
    "# Calculate factorial of 10\n",
    "result = factorial(10)\n",
    "print(\"10! =\", result)"
   ]
  },
  {
   "cell_type": "markdown",
   "metadata": {
    "id": "smklrzDSRMrq"
   },
   "source": [
    "Absolute"
   ]
  },
  {
   "cell_type": "markdown",
   "metadata": {
    "id": "9QqR9YkrQ-US"
   },
   "source": [
    "$$\n",
    "f(x) = |2x-1|,\n",
    "f(-100)=\n",
    "$$"
   ]
  },
  {
   "cell_type": "code",
   "execution_count": 4,
   "metadata": {
    "id": "8ZWZXhrZRMNZ"
   },
   "outputs": [
    {
     "name": "stdout",
     "output_type": "stream",
     "text": [
      "Hasil f(-100) adalah  201\n"
     ]
    }
   ],
   "source": [
    "def f(x):\n",
    "  return abs(2*x - 1)\n",
    "\n",
    "x_value = -100\n",
    "hasil = f(x_value)\n",
    "\n",
    "print('Hasil f(-100) adalah ',hasil)"
   ]
  },
  {
   "cell_type": "markdown",
   "metadata": {
    "id": "M3guYUWsScnY"
   },
   "source": [
    "Fungsi Sepotong-sepotong (Piecewise Function)"
   ]
  },
  {
   "cell_type": "markdown",
   "metadata": {
    "id": "sd7LZl_JRlDE"
   },
   "source": [
    "$$\n",
    "f(x)=\n",
    "\\begin{cases}\n",
    "x^{2} & \\text{x < 0}, \\\\\n",
    "x+2 & \\text{x >= 0}.\n",
    "\\end{cases}\n",
    "f(3)=\n",
    "$$"
   ]
  },
  {
   "cell_type": "code",
   "execution_count": 5,
   "metadata": {
    "id": "dS7XjBWlRv8W"
   },
   "outputs": [
    {
     "name": "stdout",
     "output_type": "stream",
     "text": [
      "Hasil = 5\n"
     ]
    }
   ],
   "source": [
    "def a(x):\n",
    "    if x< 0:\n",
    "        return x**2\n",
    "    elif x>=0:\n",
    "        return x+2\n",
    "\n",
    "x_value = 3\n",
    "hasil = a(x_value)\n",
    "print('Hasil =',hasil)"
   ]
  },
  {
   "cell_type": "markdown",
   "metadata": {
    "id": "VvfDI7hNVUoN"
   },
   "source": [
    "Matrix"
   ]
  },
  {
   "cell_type": "markdown",
   "metadata": {
    "id": "JLh40-aAVrSI"
   },
   "source": [
    "\n",
    "$$\n",
    "\\begin{bmatrix}\n",
    "2 & 3 \\\\\n",
    "1 & 5\n",
    "\\end{bmatrix}\n",
    "*\n",
    "\\begin{bmatrix}\n",
    "7 & 0.5 \\\\\n",
    "4 & 0\n",
    "\\end{bmatrix}\n",
    "$$"
   ]
  },
  {
   "cell_type": "code",
   "execution_count": 6,
   "metadata": {},
   "outputs": [
    {
     "name": "stdout",
     "output_type": "stream",
     "text": [
      "[26, 1.0]\n",
      "[27, 0.5]\n"
     ]
    }
   ],
   "source": [
    "# Define the matrices\n",
    "matrix1 = [[2, 3], [1, 5]]\n",
    "matrix2 = [[7, 0.5], [4, 0]]\n",
    "\n",
    "# Initialize the result matrix\n",
    "result = [[0, 0], [0, 0]]\n",
    "\n",
    "# Perform matrix multiplication\n",
    "for i in range(len(matrix1)):\n",
    "    for j in range(len(matrix2[0])):\n",
    "        for k in range(len(matrix2)):\n",
    "            result[i][j] += matrix1[i][k] * matrix2[k][j]\n",
    "\n",
    "# Print the result\n",
    "for row in result:\n",
    "    print(row)"
   ]
  },
  {
   "cell_type": "code",
   "execution_count": null,
   "metadata": {},
   "outputs": [],
   "source": []
  }
 ],
 "metadata": {
  "colab": {
   "provenance": []
  },
  "kernelspec": {
   "display_name": "Python 3 (ipykernel)",
   "language": "python",
   "name": "python3"
  },
  "language_info": {
   "codemirror_mode": {
    "name": "ipython",
    "version": 3
   },
   "file_extension": ".py",
   "mimetype": "text/x-python",
   "name": "python",
   "nbconvert_exporter": "python",
   "pygments_lexer": "ipython3",
   "version": "3.11.4"
  }
 },
 "nbformat": 4,
 "nbformat_minor": 1
}
